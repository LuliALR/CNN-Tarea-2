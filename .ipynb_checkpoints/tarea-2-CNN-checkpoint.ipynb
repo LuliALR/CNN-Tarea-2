{
 "cells": [
  {
   "cell_type": "markdown",
   "metadata": {},
   "source": [
    "# Tarea 2 - Redes Convolucionales\n",
    "\n",
    "- Implementar un modelo de clasificación de imágenes simple utilizando una CNN en el conjunto de datos KMNIST o CIFAR-10\n",
    "- Experimentar con diferentes hiperparámetros (tasa de aprendizaje, tamaño de lote, arquitectura de la red) y observar cómo afectan el rendimiento de la red en un problema de clasificación de imágenes simples\n",
    "- Visualizar los mapas de características generados por diferentes capas de una CNN en un conjunto de datos de imágenes pequeñas, como entender qué características específicas están aprendiendo las capas profundas de la red."
   ]
  },
  {
   "cell_type": "code",
   "execution_count": 9,
   "metadata": {
    "tags": []
   },
   "outputs": [],
   "source": [
    "import tensorflow as tf\n",
    "from keras.models import Sequential\n",
    "from keras.layers import Dense, Conv2D, MaxPooling2D, Dropout, Flatten\n",
    "from keras.optimizers import Adam\n",
    "from keras.callbacks import Callback\n",
    "from keras.utils import np_utils\n",
    "from keras.datasets import cifar10\n",
    "import numpy as np\n",
    "import matplotlib as plt\n",
    "from keras import backend as K"
   ]
  },
  {
   "cell_type": "code",
   "execution_count": 10,
   "metadata": {
    "tags": []
   },
   "outputs": [
    {
     "name": "stdout",
     "output_type": "stream",
     "text": [
      "Downloading data from https://www.cs.toronto.edu/~kriz/cifar-10-python.tar.gz\n",
      "170498071/170498071 [==============================] - 11575s 68us/step\n"
     ]
    }
   ],
   "source": [
    "##Preparing data\n",
    "(input_trainset, output_trainset), (input_testset, output_testset) = cifar10.load_data()\n",
    "input_trainset = input_trainset.astype('float32')\n",
    "input_testset = input_testset.astype('float32')\n"
   ]
  },
  {
   "cell_type": "code",
   "execution_count": null,
   "metadata": {},
   "outputs": [],
   "source": [
    "#Normalize data\n",
    "mean = np.mean(input_trainset, axis=(0, 1, 2, 3))\n",
    "std = np.std(input_trainset, axis=(0, 1, 2, 3))\n",
    "input_trainset = (input_trainset - mean)(std+1e-7)\n",
    "input_testset =  (input_testset - mean)(std+1e-7)"
   ]
  },
  {
   "cell_type": "code",
   "execution_count": null,
   "metadata": {},
   "outputs": [],
   "source": [
    "nclasses = 10\n",
    "output_trainset = np_utils.to_categorical(output_trainset, num_classes=nclasses)\n",
    "output_testset = np_utils.to_categorical(output_testset, num_classes=nclasses)"
   ]
  },
  {
   "cell_type": "code",
   "execution_count": null,
   "metadata": {},
   "outputs": [],
   "source": [
    "print(input_trainset.shape)\n",
    "print(output_trainset.shape)"
   ]
  }
 ],
 "metadata": {
  "kernelspec": {
   "display_name": "Python 3 (ipykernel)",
   "language": "python",
   "name": "python3"
  },
  "language_info": {
   "codemirror_mode": {
    "name": "ipython",
    "version": 3
   },
   "file_extension": ".py",
   "mimetype": "text/x-python",
   "name": "python",
   "nbconvert_exporter": "python",
   "pygments_lexer": "ipython3",
   "version": "3.7.3"
  }
 },
 "nbformat": 4,
 "nbformat_minor": 4
}
